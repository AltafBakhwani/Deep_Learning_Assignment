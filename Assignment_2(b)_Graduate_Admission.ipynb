{
  "cells": [
    {
      "cell_type": "markdown",
      "id": "7e0750db",
      "metadata": {
        "id": "7e0750db"
      },
      "source": [
        "\n",
        "# Graduate Admission"
      ]
    },
    {
      "cell_type": "markdown",
      "id": "dc57a826",
      "metadata": {
        "id": "dc57a826"
      },
      "source": [
        "### This dataset was built with the purpose of helping students in shortlisting universities with their profiles. The predicted output gives them a fair idea about their chances for a particular university."
      ]
    },
    {
      "cell_type": "code",
      "execution_count": 4,
      "id": "1dd035b4-4414-4ec7-8521-b9a68aab4622",
      "metadata": {
        "colab": {
          "base_uri": "https://localhost:8080/",
          "height": 73
        },
        "id": "1dd035b4-4414-4ec7-8521-b9a68aab4622",
        "outputId": "d8723a73-a8d7-4eb8-a9c2-c3c4e98fa158"
      },
      "outputs": [
        {
          "output_type": "display_data",
          "data": {
            "text/plain": [
              "<IPython.core.display.HTML object>"
            ],
            "text/html": [
              "\n",
              "     <input type=\"file\" id=\"files-7105bb99-0c1c-419b-a113-c9994a276930\" name=\"files[]\" multiple disabled\n",
              "        style=\"border:none\" />\n",
              "     <output id=\"result-7105bb99-0c1c-419b-a113-c9994a276930\">\n",
              "      Upload widget is only available when the cell has been executed in the\n",
              "      current browser session. Please rerun this cell to enable.\n",
              "      </output>\n",
              "      <script>// Copyright 2017 Google LLC\n",
              "//\n",
              "// Licensed under the Apache License, Version 2.0 (the \"License\");\n",
              "// you may not use this file except in compliance with the License.\n",
              "// You may obtain a copy of the License at\n",
              "//\n",
              "//      http://www.apache.org/licenses/LICENSE-2.0\n",
              "//\n",
              "// Unless required by applicable law or agreed to in writing, software\n",
              "// distributed under the License is distributed on an \"AS IS\" BASIS,\n",
              "// WITHOUT WARRANTIES OR CONDITIONS OF ANY KIND, either express or implied.\n",
              "// See the License for the specific language governing permissions and\n",
              "// limitations under the License.\n",
              "\n",
              "/**\n",
              " * @fileoverview Helpers for google.colab Python module.\n",
              " */\n",
              "(function(scope) {\n",
              "function span(text, styleAttributes = {}) {\n",
              "  const element = document.createElement('span');\n",
              "  element.textContent = text;\n",
              "  for (const key of Object.keys(styleAttributes)) {\n",
              "    element.style[key] = styleAttributes[key];\n",
              "  }\n",
              "  return element;\n",
              "}\n",
              "\n",
              "// Max number of bytes which will be uploaded at a time.\n",
              "const MAX_PAYLOAD_SIZE = 100 * 1024;\n",
              "\n",
              "function _uploadFiles(inputId, outputId) {\n",
              "  const steps = uploadFilesStep(inputId, outputId);\n",
              "  const outputElement = document.getElementById(outputId);\n",
              "  // Cache steps on the outputElement to make it available for the next call\n",
              "  // to uploadFilesContinue from Python.\n",
              "  outputElement.steps = steps;\n",
              "\n",
              "  return _uploadFilesContinue(outputId);\n",
              "}\n",
              "\n",
              "// This is roughly an async generator (not supported in the browser yet),\n",
              "// where there are multiple asynchronous steps and the Python side is going\n",
              "// to poll for completion of each step.\n",
              "// This uses a Promise to block the python side on completion of each step,\n",
              "// then passes the result of the previous step as the input to the next step.\n",
              "function _uploadFilesContinue(outputId) {\n",
              "  const outputElement = document.getElementById(outputId);\n",
              "  const steps = outputElement.steps;\n",
              "\n",
              "  const next = steps.next(outputElement.lastPromiseValue);\n",
              "  return Promise.resolve(next.value.promise).then((value) => {\n",
              "    // Cache the last promise value to make it available to the next\n",
              "    // step of the generator.\n",
              "    outputElement.lastPromiseValue = value;\n",
              "    return next.value.response;\n",
              "  });\n",
              "}\n",
              "\n",
              "/**\n",
              " * Generator function which is called between each async step of the upload\n",
              " * process.\n",
              " * @param {string} inputId Element ID of the input file picker element.\n",
              " * @param {string} outputId Element ID of the output display.\n",
              " * @return {!Iterable<!Object>} Iterable of next steps.\n",
              " */\n",
              "function* uploadFilesStep(inputId, outputId) {\n",
              "  const inputElement = document.getElementById(inputId);\n",
              "  inputElement.disabled = false;\n",
              "\n",
              "  const outputElement = document.getElementById(outputId);\n",
              "  outputElement.innerHTML = '';\n",
              "\n",
              "  const pickedPromise = new Promise((resolve) => {\n",
              "    inputElement.addEventListener('change', (e) => {\n",
              "      resolve(e.target.files);\n",
              "    });\n",
              "  });\n",
              "\n",
              "  const cancel = document.createElement('button');\n",
              "  inputElement.parentElement.appendChild(cancel);\n",
              "  cancel.textContent = 'Cancel upload';\n",
              "  const cancelPromise = new Promise((resolve) => {\n",
              "    cancel.onclick = () => {\n",
              "      resolve(null);\n",
              "    };\n",
              "  });\n",
              "\n",
              "  // Wait for the user to pick the files.\n",
              "  const files = yield {\n",
              "    promise: Promise.race([pickedPromise, cancelPromise]),\n",
              "    response: {\n",
              "      action: 'starting',\n",
              "    }\n",
              "  };\n",
              "\n",
              "  cancel.remove();\n",
              "\n",
              "  // Disable the input element since further picks are not allowed.\n",
              "  inputElement.disabled = true;\n",
              "\n",
              "  if (!files) {\n",
              "    return {\n",
              "      response: {\n",
              "        action: 'complete',\n",
              "      }\n",
              "    };\n",
              "  }\n",
              "\n",
              "  for (const file of files) {\n",
              "    const li = document.createElement('li');\n",
              "    li.append(span(file.name, {fontWeight: 'bold'}));\n",
              "    li.append(span(\n",
              "        `(${file.type || 'n/a'}) - ${file.size} bytes, ` +\n",
              "        `last modified: ${\n",
              "            file.lastModifiedDate ? file.lastModifiedDate.toLocaleDateString() :\n",
              "                                    'n/a'} - `));\n",
              "    const percent = span('0% done');\n",
              "    li.appendChild(percent);\n",
              "\n",
              "    outputElement.appendChild(li);\n",
              "\n",
              "    const fileDataPromise = new Promise((resolve) => {\n",
              "      const reader = new FileReader();\n",
              "      reader.onload = (e) => {\n",
              "        resolve(e.target.result);\n",
              "      };\n",
              "      reader.readAsArrayBuffer(file);\n",
              "    });\n",
              "    // Wait for the data to be ready.\n",
              "    let fileData = yield {\n",
              "      promise: fileDataPromise,\n",
              "      response: {\n",
              "        action: 'continue',\n",
              "      }\n",
              "    };\n",
              "\n",
              "    // Use a chunked sending to avoid message size limits. See b/62115660.\n",
              "    let position = 0;\n",
              "    do {\n",
              "      const length = Math.min(fileData.byteLength - position, MAX_PAYLOAD_SIZE);\n",
              "      const chunk = new Uint8Array(fileData, position, length);\n",
              "      position += length;\n",
              "\n",
              "      const base64 = btoa(String.fromCharCode.apply(null, chunk));\n",
              "      yield {\n",
              "        response: {\n",
              "          action: 'append',\n",
              "          file: file.name,\n",
              "          data: base64,\n",
              "        },\n",
              "      };\n",
              "\n",
              "      let percentDone = fileData.byteLength === 0 ?\n",
              "          100 :\n",
              "          Math.round((position / fileData.byteLength) * 100);\n",
              "      percent.textContent = `${percentDone}% done`;\n",
              "\n",
              "    } while (position < fileData.byteLength);\n",
              "  }\n",
              "\n",
              "  // All done.\n",
              "  yield {\n",
              "    response: {\n",
              "      action: 'complete',\n",
              "    }\n",
              "  };\n",
              "}\n",
              "\n",
              "scope.google = scope.google || {};\n",
              "scope.google.colab = scope.google.colab || {};\n",
              "scope.google.colab._files = {\n",
              "  _uploadFiles,\n",
              "  _uploadFilesContinue,\n",
              "};\n",
              "})(self);\n",
              "</script> "
            ]
          },
          "metadata": {}
        },
        {
          "output_type": "stream",
          "name": "stdout",
          "text": [
            "Saving Admission_Predict_Ver1.1.csv to Admission_Predict_Ver1.1.csv\n"
          ]
        }
      ],
      "source": [
        "from google.colab import files\n",
        "uploaded = files.upload()"
      ]
    },
    {
      "cell_type": "code",
      "execution_count": 2,
      "id": "75ec2aca",
      "metadata": {
        "id": "75ec2aca"
      },
      "outputs": [],
      "source": [
        "import pandas as pd\n",
        "import numpy as np\n",
        "import matplotlib.pyplot as plt\n",
        "\n",
        "from sklearn.model_selection import train_test_split\n",
        "from sklearn.linear_model import LinearRegression\n",
        "from sklearn.metrics import mean_squared_error, r2_score\n",
        "\n",
        "from sklearn.preprocessing import StandardScaler\n",
        "\n",
        "import tensorflow as tf\n",
        "from tensorflow.keras.models import Sequential\n",
        "from tensorflow.keras.layers import Dense\n",
        "\n"
      ]
    },
    {
      "cell_type": "code",
      "execution_count": 11,
      "id": "dd8d0866-5c29-4395-8f93-bbb1b699930e",
      "metadata": {
        "colab": {
          "base_uri": "https://localhost:8080/"
        },
        "id": "dd8d0866-5c29-4395-8f93-bbb1b699930e",
        "outputId": "ba3223ac-9054-4f73-d23e-40640023f15f"
      },
      "outputs": [
        {
          "output_type": "stream",
          "name": "stdout",
          "text": [
            "   Serial No.  GRE Score  TOEFL Score  University Rating  SOP  LOR   CGPA  \\\n",
            "0           1        337          118                  4  4.5   4.5  9.65   \n",
            "1           2        324          107                  4  4.0   4.5  8.87   \n",
            "2           3        316          104                  3  3.0   3.5  8.00   \n",
            "3           4        322          110                  3  3.5   2.5  8.67   \n",
            "4           5        314          103                  2  2.0   3.0  8.21   \n",
            "\n",
            "   Research  Chance of Admit   \n",
            "0         1              0.92  \n",
            "1         1              0.76  \n",
            "2         1              0.72  \n",
            "3         1              0.80  \n",
            "4         0              0.65  \n"
          ]
        }
      ],
      "source": [
        "# Load the dataset\n",
        "df = pd.read_csv('Admission_Predict_Ver1.1.csv')\n",
        "\n",
        "# Display the first few rows of the DataFrame to verify the data\n",
        "print(df.head())\n"
      ]
    },
    {
      "cell_type": "code",
      "execution_count": 13,
      "id": "qoAn0eF3-bCO",
      "metadata": {
        "colab": {
          "base_uri": "https://localhost:8080/"
        },
        "id": "qoAn0eF3-bCO",
        "outputId": "0473dc6b-c54b-43ce-dbc0-d38eb4d6ca5a"
      },
      "outputs": [
        {
          "output_type": "stream",
          "name": "stdout",
          "text": [
            "     Serial No.  GRE Score  TOEFL Score  University Rating  SOP  LOR   CGPA  \\\n",
            "0             1        337          118                  4  4.5   4.5  9.65   \n",
            "1             2        324          107                  4  4.0   4.5  8.87   \n",
            "2             3        316          104                  3  3.0   3.5  8.00   \n",
            "3             4        322          110                  3  3.5   2.5  8.67   \n",
            "4             5        314          103                  2  2.0   3.0  8.21   \n",
            "..          ...        ...          ...                ...  ...   ...   ...   \n",
            "495         496        332          108                  5  4.5   4.0  9.02   \n",
            "496         497        337          117                  5  5.0   5.0  9.87   \n",
            "497         498        330          120                  5  4.5   5.0  9.56   \n",
            "498         499        312          103                  4  4.0   5.0  8.43   \n",
            "499         500        327          113                  4  4.5   4.5  9.04   \n",
            "\n",
            "     Research  Chance of Admit   \n",
            "0           1              0.92  \n",
            "1           1              0.76  \n",
            "2           1              0.72  \n",
            "3           1              0.80  \n",
            "4           0              0.65  \n",
            "..        ...               ...  \n",
            "495         1              0.87  \n",
            "496         1              0.96  \n",
            "497         1              0.93  \n",
            "498         0              0.73  \n",
            "499         0              0.84  \n",
            "\n",
            "[500 rows x 9 columns]\n"
          ]
        }
      ],
      "source": [
        "print(df)"
      ]
    },
    {
      "cell_type": "code",
      "execution_count": 7,
      "id": "cSpxD_3--rou",
      "metadata": {
        "colab": {
          "base_uri": "https://localhost:8080/"
        },
        "id": "cSpxD_3--rou",
        "outputId": "b8ee2c80-14b5-4745-c6eb-d65c59bd7068"
      },
      "outputs": [
        {
          "output_type": "stream",
          "name": "stdout",
          "text": [
            "Missing values in each column:\n",
            "GRE Score            0\n",
            "TOEFL Score          0\n",
            "University Rating    0\n",
            "SOP                  0\n",
            "LOR                  0\n",
            "CGPA                 0\n",
            "Research             0\n",
            "Chance of Admit      0\n",
            "dtype: int64\n"
          ]
        }
      ],
      "source": [
        "# Drop the column 'Serial No.' if it exists\n",
        "df = df.drop(columns=['Serial No.'], errors='ignore')\n",
        "\n",
        "# Check for missing values\n",
        "print(\"Missing values in each column:\")\n",
        "print(df.isnull().sum())"
      ]
    },
    {
      "cell_type": "code",
      "execution_count": null,
      "id": "P4lDvbjD-5bl",
      "metadata": {
        "colab": {
          "base_uri": "https://localhost:8080/"
        },
        "id": "P4lDvbjD-5bl",
        "outputId": "75705f77-dcd3-4ac9-ee03-e70d36cfd3d0"
      },
      "outputs": [
        {
          "output_type": "execute_result",
          "data": {
            "text/plain": [
              "(0.003704655398788405, 0.8188432567829631)"
            ]
          },
          "metadata": {},
          "execution_count": 20
        }
      ],
      "source": [
        "# Load the dataset\n",
        "df = pd.read_csv(\"Admission_Predict_Ver1.1.csv\")\n",
        "\n",
        "# Adjust according to the exact column name\n",
        "X = df.drop([\"Chance of Admit \", \"Serial No.\"], axis=1)\n",
        "y = df[\"Chance of Admit \"]\n",
        "\n",
        "\n",
        "# Split the data into training and testing sets\n",
        "X_train, X_test, y_train, y_test = train_test_split(X, y, test_size=0.2, random_state=42)\n",
        "\n",
        "# Initialize the Linear Regression model\n",
        "model = LinearRegression()\n",
        "\n",
        "# Train the model on the training data\n",
        "model.fit(X_train, y_train)\n",
        "\n",
        "# Predict on the test data\n",
        "y_pred = model.predict(X_test)\n",
        "\n",
        "# Evaluate the model\n",
        "mse = mean_squared_error(y_test, y_pred)\n",
        "r2 = r2_score(y_test, y_pred)\n",
        "\n",
        "mse, r2\n",
        "\n"
      ]
    },
    {
      "cell_type": "code",
      "execution_count": null,
      "id": "PR0ZWnBuBbK2",
      "metadata": {
        "colab": {
          "base_uri": "https://localhost:8080/"
        },
        "id": "PR0ZWnBuBbK2",
        "outputId": "a2f350d5-de9f-41f9-af51-33c9c49fcfd2"
      },
      "outputs": [
        {
          "output_type": "stream",
          "name": "stderr",
          "text": [
            "/usr/local/lib/python3.10/dist-packages/keras/src/layers/core/dense.py:87: UserWarning: Do not pass an `input_shape`/`input_dim` argument to a layer. When using Sequential models, prefer using an `Input(shape)` object as the first layer in the model instead.\n",
            "  super().__init__(activity_regularizer=activity_regularizer, **kwargs)\n"
          ]
        }
      ],
      "source": [
        "model = Sequential([\n",
        "    Dense(64, activation='relu', input_shape=(X_train.shape[1],)),\n",
        "    Dense(64, activation='relu'),\n",
        "    Dense(1)\n",
        "])"
      ]
    },
    {
      "cell_type": "code",
      "execution_count": null,
      "id": "-dOT6t1hBoQS",
      "metadata": {
        "colab": {
          "base_uri": "https://localhost:8080/"
        },
        "id": "-dOT6t1hBoQS",
        "outputId": "d109334c-8403-49aa-9702-14984a4404e7"
      },
      "outputs": [
        {
          "output_type": "stream",
          "name": "stdout",
          "text": [
            "Epoch 1/100\n",
            "10/10 - 2s - 171ms/step - loss: 1090.8586 - mae: 27.4133 - val_loss: 7.2126 - val_mae: 2.6429\n",
            "Epoch 2/100\n",
            "10/10 - 0s - 8ms/step - loss: 157.4640 - mae: 11.8235 - val_loss: 183.5241 - val_mae: 13.5419\n",
            "Epoch 3/100\n",
            "10/10 - 0s - 6ms/step - loss: 61.7301 - mae: 6.4523 - val_loss: 6.0538 - val_mae: 2.4143\n",
            "Epoch 4/100\n",
            "10/10 - 0s - 16ms/step - loss: 25.7951 - mae: 4.9249 - val_loss: 20.4094 - val_mae: 4.4869\n",
            "Epoch 5/100\n",
            "10/10 - 0s - 11ms/step - loss: 5.8841 - mae: 1.9776 - val_loss: 4.1472 - val_mae: 2.0033\n",
            "Epoch 6/100\n",
            "10/10 - 0s - 6ms/step - loss: 4.6315 - mae: 2.0832 - val_loss: 1.0900 - val_mae: 0.9705\n",
            "Epoch 7/100\n",
            "10/10 - 0s - 14ms/step - loss: 0.7327 - mae: 0.7080 - val_loss: 1.2635 - val_mae: 1.0387\n",
            "Epoch 8/100\n",
            "10/10 - 0s - 8ms/step - loss: 0.5977 - mae: 0.6337 - val_loss: 0.2342 - val_mae: 0.3742\n",
            "Epoch 9/100\n",
            "10/10 - 0s - 6ms/step - loss: 0.3070 - mae: 0.4604 - val_loss: 0.2290 - val_mae: 0.3697\n",
            "Epoch 10/100\n",
            "10/10 - 0s - 8ms/step - loss: 0.1820 - mae: 0.3423 - val_loss: 0.1965 - val_mae: 0.3715\n",
            "Epoch 11/100\n",
            "10/10 - 0s - 6ms/step - loss: 0.1627 - mae: 0.3210 - val_loss: 0.1751 - val_mae: 0.3345\n",
            "Epoch 12/100\n",
            "10/10 - 0s - 8ms/step - loss: 0.1530 - mae: 0.3156 - val_loss: 0.1615 - val_mae: 0.3283\n",
            "Epoch 13/100\n",
            "10/10 - 0s - 6ms/step - loss: 0.1487 - mae: 0.3115 - val_loss: 0.1599 - val_mae: 0.3283\n",
            "Epoch 14/100\n",
            "10/10 - 0s - 6ms/step - loss: 0.1443 - mae: 0.3076 - val_loss: 0.1613 - val_mae: 0.3273\n",
            "Epoch 15/100\n",
            "10/10 - 0s - 7ms/step - loss: 0.1447 - mae: 0.3075 - val_loss: 0.1617 - val_mae: 0.3269\n",
            "Epoch 16/100\n",
            "10/10 - 0s - 13ms/step - loss: 0.1434 - mae: 0.3066 - val_loss: 0.1578 - val_mae: 0.3260\n",
            "Epoch 17/100\n",
            "10/10 - 0s - 8ms/step - loss: 0.1439 - mae: 0.3082 - val_loss: 0.1599 - val_mae: 0.3253\n",
            "Epoch 18/100\n",
            "10/10 - 0s - 6ms/step - loss: 0.1416 - mae: 0.3044 - val_loss: 0.1564 - val_mae: 0.3244\n",
            "Epoch 19/100\n",
            "10/10 - 0s - 15ms/step - loss: 0.1412 - mae: 0.3046 - val_loss: 0.1567 - val_mae: 0.3233\n",
            "Epoch 20/100\n",
            "10/10 - 0s - 6ms/step - loss: 0.1408 - mae: 0.3040 - val_loss: 0.1563 - val_mae: 0.3227\n",
            "Epoch 21/100\n",
            "10/10 - 0s - 8ms/step - loss: 0.1409 - mae: 0.3040 - val_loss: 0.1542 - val_mae: 0.3223\n",
            "Epoch 22/100\n",
            "10/10 - 0s - 14ms/step - loss: 0.1433 - mae: 0.3081 - val_loss: 0.1561 - val_mae: 0.3216\n",
            "Epoch 23/100\n",
            "10/10 - 0s - 13ms/step - loss: 0.1390 - mae: 0.3019 - val_loss: 0.1527 - val_mae: 0.3208\n",
            "Epoch 24/100\n",
            "10/10 - 0s - 12ms/step - loss: 0.1384 - mae: 0.3006 - val_loss: 0.1557 - val_mae: 0.3203\n",
            "Epoch 25/100\n",
            "10/10 - 0s - 7ms/step - loss: 0.1371 - mae: 0.2996 - val_loss: 0.1513 - val_mae: 0.3191\n",
            "Epoch 26/100\n",
            "10/10 - 0s - 13ms/step - loss: 0.1385 - mae: 0.3016 - val_loss: 0.1505 - val_mae: 0.3182\n",
            "Epoch 27/100\n",
            "10/10 - 0s - 15ms/step - loss: 0.1368 - mae: 0.2993 - val_loss: 0.1520 - val_mae: 0.3175\n",
            "Epoch 28/100\n",
            "10/10 - 0s - 15ms/step - loss: 0.1363 - mae: 0.2993 - val_loss: 0.1490 - val_mae: 0.3165\n",
            "Epoch 29/100\n",
            "10/10 - 0s - 8ms/step - loss: 0.1359 - mae: 0.2975 - val_loss: 0.1501 - val_mae: 0.3157\n",
            "Epoch 30/100\n",
            "10/10 - 0s - 7ms/step - loss: 0.1360 - mae: 0.2984 - val_loss: 0.1480 - val_mae: 0.3145\n",
            "Epoch 31/100\n",
            "10/10 - 0s - 6ms/step - loss: 0.1338 - mae: 0.2971 - val_loss: 0.1467 - val_mae: 0.3139\n",
            "Epoch 32/100\n",
            "10/10 - 0s - 7ms/step - loss: 0.1321 - mae: 0.2943 - val_loss: 0.1474 - val_mae: 0.3130\n",
            "Epoch 33/100\n",
            "10/10 - 0s - 6ms/step - loss: 0.1319 - mae: 0.2944 - val_loss: 0.1464 - val_mae: 0.3120\n",
            "Epoch 34/100\n",
            "10/10 - 0s - 6ms/step - loss: 0.1305 - mae: 0.2932 - val_loss: 0.1454 - val_mae: 0.3110\n",
            "Epoch 35/100\n",
            "10/10 - 0s - 6ms/step - loss: 0.1304 - mae: 0.2939 - val_loss: 0.1447 - val_mae: 0.3102\n",
            "Epoch 36/100\n",
            "10/10 - 0s - 15ms/step - loss: 0.1307 - mae: 0.2933 - val_loss: 0.1431 - val_mae: 0.3091\n",
            "Epoch 37/100\n",
            "10/10 - 0s - 12ms/step - loss: 0.1302 - mae: 0.2929 - val_loss: 0.1434 - val_mae: 0.3085\n",
            "Epoch 38/100\n",
            "10/10 - 0s - 9ms/step - loss: 0.1274 - mae: 0.2901 - val_loss: 0.1423 - val_mae: 0.3074\n",
            "Epoch 39/100\n",
            "10/10 - 0s - 8ms/step - loss: 0.1270 - mae: 0.2888 - val_loss: 0.1412 - val_mae: 0.3064\n",
            "Epoch 40/100\n",
            "10/10 - 0s - 10ms/step - loss: 0.1282 - mae: 0.2901 - val_loss: 0.1398 - val_mae: 0.3055\n",
            "Epoch 41/100\n",
            "10/10 - 0s - 13ms/step - loss: 0.1277 - mae: 0.2889 - val_loss: 0.1398 - val_mae: 0.3047\n",
            "Epoch 42/100\n",
            "10/10 - 0s - 12ms/step - loss: 0.1264 - mae: 0.2880 - val_loss: 0.1387 - val_mae: 0.3036\n",
            "Epoch 43/100\n",
            "10/10 - 0s - 10ms/step - loss: 0.1260 - mae: 0.2878 - val_loss: 0.1382 - val_mae: 0.3028\n",
            "Epoch 44/100\n",
            "10/10 - 0s - 15ms/step - loss: 0.1238 - mae: 0.2850 - val_loss: 0.1375 - val_mae: 0.3019\n",
            "Epoch 45/100\n",
            "10/10 - 0s - 12ms/step - loss: 0.1228 - mae: 0.2846 - val_loss: 0.1361 - val_mae: 0.3008\n",
            "Epoch 46/100\n",
            "10/10 - 0s - 15ms/step - loss: 0.1215 - mae: 0.2829 - val_loss: 0.1370 - val_mae: 0.3003\n",
            "Epoch 47/100\n",
            "10/10 - 0s - 10ms/step - loss: 0.1236 - mae: 0.2854 - val_loss: 0.1355 - val_mae: 0.2991\n",
            "Epoch 48/100\n",
            "10/10 - 0s - 14ms/step - loss: 0.1213 - mae: 0.2818 - val_loss: 0.1336 - val_mae: 0.2979\n",
            "Epoch 49/100\n",
            "10/10 - 0s - 14ms/step - loss: 0.1205 - mae: 0.2807 - val_loss: 0.1342 - val_mae: 0.2973\n",
            "Epoch 50/100\n",
            "10/10 - 0s - 11ms/step - loss: 0.1184 - mae: 0.2790 - val_loss: 0.1313 - val_mae: 0.2968\n",
            "Epoch 51/100\n",
            "10/10 - 0s - 12ms/step - loss: 0.1182 - mae: 0.2799 - val_loss: 0.1304 - val_mae: 0.2957\n",
            "Epoch 52/100\n",
            "10/10 - 0s - 11ms/step - loss: 0.1169 - mae: 0.2775 - val_loss: 0.1307 - val_mae: 0.2939\n",
            "Epoch 53/100\n",
            "10/10 - 0s - 14ms/step - loss: 0.1185 - mae: 0.2790 - val_loss: 0.1290 - val_mae: 0.2960\n",
            "Epoch 54/100\n",
            "10/10 - 0s - 11ms/step - loss: 0.1157 - mae: 0.2765 - val_loss: 0.1329 - val_mae: 0.2929\n",
            "Epoch 55/100\n",
            "10/10 - 0s - 14ms/step - loss: 0.1169 - mae: 0.2752 - val_loss: 0.1272 - val_mae: 0.2914\n",
            "Epoch 56/100\n",
            "10/10 - 0s - 14ms/step - loss: 0.1163 - mae: 0.2776 - val_loss: 0.1262 - val_mae: 0.2908\n",
            "Epoch 57/100\n",
            "10/10 - 0s - 17ms/step - loss: 0.1139 - mae: 0.2752 - val_loss: 0.1267 - val_mae: 0.2888\n",
            "Epoch 58/100\n",
            "10/10 - 0s - 11ms/step - loss: 0.1131 - mae: 0.2738 - val_loss: 0.1297 - val_mae: 0.2887\n",
            "Epoch 59/100\n",
            "10/10 - 0s - 13ms/step - loss: 0.1111 - mae: 0.2703 - val_loss: 0.1236 - val_mae: 0.2877\n",
            "Epoch 60/100\n",
            "10/10 - 0s - 12ms/step - loss: 0.1136 - mae: 0.2728 - val_loss: 0.1236 - val_mae: 0.2857\n",
            "Epoch 61/100\n",
            "10/10 - 0s - 10ms/step - loss: 0.1109 - mae: 0.2699 - val_loss: 0.1225 - val_mae: 0.2847\n",
            "Epoch 62/100\n",
            "10/10 - 0s - 6ms/step - loss: 0.1095 - mae: 0.2688 - val_loss: 0.1214 - val_mae: 0.2838\n",
            "Epoch 63/100\n",
            "10/10 - 0s - 6ms/step - loss: 0.1096 - mae: 0.2690 - val_loss: 0.1201 - val_mae: 0.2843\n",
            "Epoch 64/100\n",
            "10/10 - 0s - 6ms/step - loss: 0.1111 - mae: 0.2697 - val_loss: 0.1196 - val_mae: 0.2846\n",
            "Epoch 65/100\n",
            "10/10 - 0s - 8ms/step - loss: 0.1074 - mae: 0.2654 - val_loss: 0.1234 - val_mae: 0.2810\n",
            "Epoch 66/100\n",
            "10/10 - 0s - 11ms/step - loss: 0.1065 - mae: 0.2636 - val_loss: 0.1176 - val_mae: 0.2815\n",
            "Epoch 67/100\n",
            "10/10 - 0s - 6ms/step - loss: 0.1058 - mae: 0.2636 - val_loss: 0.1230 - val_mae: 0.2793\n",
            "Epoch 68/100\n",
            "10/10 - 0s - 6ms/step - loss: 0.1068 - mae: 0.2638 - val_loss: 0.1165 - val_mae: 0.2812\n",
            "Epoch 69/100\n",
            "10/10 - 0s - 8ms/step - loss: 0.1087 - mae: 0.2679 - val_loss: 0.1150 - val_mae: 0.2783\n",
            "Epoch 70/100\n",
            "10/10 - 0s - 12ms/step - loss: 0.1067 - mae: 0.2623 - val_loss: 0.1282 - val_mae: 0.2803\n",
            "Epoch 71/100\n",
            "10/10 - 0s - 14ms/step - loss: 0.1073 - mae: 0.2638 - val_loss: 0.1141 - val_mae: 0.2784\n",
            "Epoch 72/100\n",
            "10/10 - 0s - 15ms/step - loss: 0.1032 - mae: 0.2596 - val_loss: 0.1152 - val_mae: 0.2726\n",
            "Epoch 73/100\n",
            "10/10 - 0s - 6ms/step - loss: 0.1032 - mae: 0.2583 - val_loss: 0.1160 - val_mae: 0.2718\n",
            "Epoch 74/100\n",
            "10/10 - 0s - 6ms/step - loss: 0.1012 - mae: 0.2561 - val_loss: 0.1105 - val_mae: 0.2716\n",
            "Epoch 75/100\n",
            "10/10 - 0s - 6ms/step - loss: 0.0995 - mae: 0.2566 - val_loss: 0.1130 - val_mae: 0.2692\n",
            "Epoch 76/100\n",
            "10/10 - 0s - 6ms/step - loss: 0.0990 - mae: 0.2539 - val_loss: 0.1099 - val_mae: 0.2680\n",
            "Epoch 77/100\n",
            "10/10 - 0s - 8ms/step - loss: 0.0986 - mae: 0.2538 - val_loss: 0.1091 - val_mae: 0.2724\n",
            "Epoch 78/100\n",
            "10/10 - 0s - 6ms/step - loss: 0.0995 - mae: 0.2546 - val_loss: 0.1224 - val_mae: 0.2722\n",
            "Epoch 79/100\n",
            "10/10 - 0s - 6ms/step - loss: 0.1032 - mae: 0.2585 - val_loss: 0.1069 - val_mae: 0.2690\n",
            "Epoch 80/100\n",
            "10/10 - 0s - 6ms/step - loss: 0.0974 - mae: 0.2507 - val_loss: 0.1056 - val_mae: 0.2637\n",
            "Epoch 81/100\n",
            "10/10 - 0s - 7ms/step - loss: 0.0973 - mae: 0.2494 - val_loss: 0.1099 - val_mae: 0.2627\n",
            "Epoch 82/100\n",
            "10/10 - 0s - 12ms/step - loss: 0.0970 - mae: 0.2528 - val_loss: 0.1035 - val_mae: 0.2629\n",
            "Epoch 83/100\n",
            "10/10 - 0s - 8ms/step - loss: 0.0934 - mae: 0.2469 - val_loss: 0.1119 - val_mae: 0.2623\n",
            "Epoch 84/100\n",
            "10/10 - 0s - 12ms/step - loss: 0.0961 - mae: 0.2520 - val_loss: 0.1042 - val_mae: 0.2587\n",
            "Epoch 85/100\n",
            "10/10 - 0s - 13ms/step - loss: 0.0925 - mae: 0.2464 - val_loss: 0.1023 - val_mae: 0.2634\n",
            "Epoch 86/100\n",
            "10/10 - 0s - 6ms/step - loss: 0.0951 - mae: 0.2491 - val_loss: 0.1022 - val_mae: 0.2563\n",
            "Epoch 87/100\n",
            "10/10 - 0s - 8ms/step - loss: 0.0924 - mae: 0.2459 - val_loss: 0.1024 - val_mae: 0.2551\n",
            "Epoch 88/100\n",
            "10/10 - 0s - 8ms/step - loss: 0.0901 - mae: 0.2420 - val_loss: 0.0998 - val_mae: 0.2539\n",
            "Epoch 89/100\n",
            "10/10 - 0s - 8ms/step - loss: 0.0918 - mae: 0.2436 - val_loss: 0.0976 - val_mae: 0.2532\n",
            "Epoch 90/100\n",
            "10/10 - 0s - 12ms/step - loss: 0.0913 - mae: 0.2416 - val_loss: 0.1001 - val_mae: 0.2621\n",
            "Epoch 91/100\n",
            "10/10 - 0s - 6ms/step - loss: 0.0936 - mae: 0.2463 - val_loss: 0.0989 - val_mae: 0.2503\n",
            "Epoch 92/100\n",
            "10/10 - 0s - 14ms/step - loss: 0.0880 - mae: 0.2380 - val_loss: 0.0965 - val_mae: 0.2491\n",
            "Epoch 93/100\n",
            "10/10 - 0s - 15ms/step - loss: 0.0869 - mae: 0.2389 - val_loss: 0.0946 - val_mae: 0.2479\n",
            "Epoch 94/100\n",
            "10/10 - 0s - 13ms/step - loss: 0.0854 - mae: 0.2353 - val_loss: 0.0931 - val_mae: 0.2475\n",
            "Epoch 95/100\n",
            "10/10 - 0s - 8ms/step - loss: 0.0839 - mae: 0.2322 - val_loss: 0.0951 - val_mae: 0.2454\n",
            "Epoch 96/100\n",
            "10/10 - 0s - 8ms/step - loss: 0.0841 - mae: 0.2344 - val_loss: 0.0941 - val_mae: 0.2442\n",
            "Epoch 97/100\n",
            "10/10 - 0s - 6ms/step - loss: 0.0844 - mae: 0.2364 - val_loss: 0.0909 - val_mae: 0.2432\n",
            "Epoch 98/100\n",
            "10/10 - 0s - 6ms/step - loss: 0.0844 - mae: 0.2343 - val_loss: 0.0939 - val_mae: 0.2419\n",
            "Epoch 99/100\n",
            "10/10 - 0s - 8ms/step - loss: 0.0862 - mae: 0.2376 - val_loss: 0.1071 - val_mae: 0.2511\n",
            "Epoch 100/100\n",
            "10/10 - 0s - 12ms/step - loss: 0.0845 - mae: 0.2322 - val_loss: 0.0894 - val_mae: 0.2457\n"
          ]
        }
      ],
      "source": [
        "model.compile(optimizer='adam', loss='mse', metrics=['mae'])\n",
        "\n",
        "history = model.fit(X_train, y_train, epochs=100, validation_split=0.2, verbose=2)"
      ]
    },
    {
      "cell_type": "code",
      "execution_count": null,
      "id": "lksOgWo3BrWS",
      "metadata": {
        "colab": {
          "base_uri": "https://localhost:8080/",
          "height": 564
        },
        "id": "lksOgWo3BrWS",
        "outputId": "772d8b8d-0b18-4592-98df-1fe0d4ceda24"
      },
      "outputs": [
        {
          "output_type": "display_data",
          "data": {
            "text/plain": [
              "<Figure size 1000x600 with 1 Axes>"
            ],
            "image/png": "[encoded data removed]"
          },
          "metadata": {}
        }
      ],
      "source": [
        "# Plot predictions vs actual values\n",
        "plt.figure(figsize=(10, 6))\n",
        "plt.scatter(y_test, y_pred, alpha=0.5)\n",
        "plt.plot([0, 1], [0, 1], color='red', linestyle='--')\n",
        "plt.xlabel('Actual Chance of Admit')\n",
        "plt.ylabel('Predicted Chance of Admit')\n",
        "plt.title('Predicted vs Actual Chance of Admit')\n",
        "plt.show()\n"
      ]
    },
    {
      "cell_type": "code",
      "execution_count": null,
      "id": "fDLCFKe7ByMr",
      "metadata": {
        "colab": {
          "base_uri": "https://localhost:8080/"
        },
        "id": "fDLCFKe7ByMr",
        "outputId": "29f9906e-941f-488a-efe5-bc619e8b00e6"
      },
      "outputs": [
        {
          "output_type": "stream",
          "name": "stdout",
          "text": [
            "Actual: 0.9300, Predicted: 0.9146\n",
            "Actual: 0.8400, Predicted: 0.7952\n",
            "Actual: 0.3900, Predicted: 0.5727\n",
            "Actual: 0.7700, Predicted: 0.7074\n",
            "Actual: 0.7400, Predicted: 0.8159\n",
            "Actual: 0.8900, Predicted: 0.8621\n",
            "Actual: 0.4700, Predicted: 0.4746\n",
            "Actual: 0.5700, Predicted: 0.6485\n",
            "Actual: 0.6800, Predicted: 0.8238\n",
            "Actual: 0.8200, Predicted: 0.8074\n"
          ]
        }
      ],
      "source": [
        "# Print some example predictions\n",
        "for actual, predicted in zip(y_test[:10], y_pred[:10]):\n",
        "    print(f'Actual: {actual:.4f}, Predicted: {predicted:.4f}')"
      ]
    },
    {
      "cell_type": "code",
      "execution_count": null,
      "id": "pHRhoU-2B6GU",
      "metadata": {
        "colab": {
          "base_uri": "https://localhost:8080/",
          "height": 564
        },
        "id": "pHRhoU-2B6GU",
        "outputId": "c233f3d3-cf6d-44b2-a6de-5b6d6d7283dc"
      },
      "outputs": [
        {
          "output_type": "display_data",
          "data": {
            "text/plain": [
              "<Figure size 1000x600 with 1 Axes>"
            ],
            "image/png": "[encoded data removed]"
          },
          "metadata": {}
        }
      ],
      "source": [
        "\n",
        "# Plot the loss over epochs\n",
        "plt.figure(figsize=(10, 6))\n",
        "plt.plot(history.history['loss'], label='Training Loss')\n",
        "plt.plot(history.history['val_loss'], label='Validation Loss')\n",
        "plt.xlabel('Epochs')\n",
        "plt.ylabel('Loss')\n",
        "plt.title('Training and Validation Loss Over Epochs')\n",
        "plt.legend()\n",
        "plt.show()"
      ]
    },
    {
      "cell_type": "code",
      "execution_count": null,
      "id": "veu66jzhB9oj",
      "metadata": {
        "id": "veu66jzhB9oj"
      },
      "outputs": [],
      "source": []
    }
  ],
  "metadata": {
    "colab": {
      "provenance": []
    },
    "kernelspec": {
      "display_name": "Python 3 (ipykernel)",
      "language": "python",
      "name": "python3"
    },
    "language_info": {
      "codemirror_mode": {
        "name": "ipython",
        "version": 3
      },
      "file_extension": ".py",
      "mimetype": "text/x-python",
      "name": "python",
      "nbconvert_exporter": "python",
      "pygments_lexer": "ipython3",
      "version": "3.11.7"
    }
  },
  "nbformat": 4,
  "nbformat_minor": 5
}